{
 "cells": [
  {
   "cell_type": "markdown",
   "id": "b479d934",
   "metadata": {},
   "source": [
    "## Ques - 1a and 1b : Recording values from WiFi Analyzer App"
   ]
  },
  {
   "cell_type": "code",
   "execution_count": 305,
   "id": "e45832a6",
   "metadata": {},
   "outputs": [],
   "source": [
    "#importing libraries\n",
    "import numpy as np\n",
    "import matplotlib.pyplot as plt\n",
    "import math\n",
    "\n",
    "# Values written from time graph in WiFi Analyzer app\n",
    "# I have taken average for few distances like 2 and 4 as for the same distance rssi values was different\n",
    "distances = [1, 2, 3, 4, 5, 6, 7, 10, 18, 41]\n",
    "rssiVal = [-50, -54, -57, -59, -61, -63, -64, -68, -73,  -80]\n",
    "\n",
    "# Total number of data\n",
    "n = 10\n",
    "\n",
    "# Converting array into numpy array \n",
    "distances = np.array(distances)\n",
    "rssiVal = np.array(rssiVal, dtype='int')\n",
    "originalDistance = np.array(distances, dtype='int')\n",
    "# taking log10 of all the distance values so as to plot distance in log scale\n",
    "distances = np.log10(distances)"
   ]
  },
  {
   "cell_type": "markdown",
   "id": "c450f28a",
   "metadata": {},
   "source": [
    "## 1c : Plotting log(distance) versus RSSI Value graph"
   ]
  },
  {
   "cell_type": "code",
   "execution_count": 306,
   "id": "8ff14677",
   "metadata": {
    "scrolled": true
   },
   "outputs": [
    {
     "data": {
      "image/png": "[encoded data removed]",
      "text/plain": [
       "<Figure size 432x288 with 1 Axes>"
      ]
     },
     "metadata": {
      "needs_background": "light"
     },
     "output_type": "display_data"
    }
   ],
   "source": [
    "plt.plot(distances, rssiVal)\n",
    "plt.ylabel('RSSI Values in dB')\n",
    "plt.xlabel('Distance in metres in log scale')\n",
    "plt.show()"
   ]
  },
  {
   "cell_type": "markdown",
   "id": "f8a4e2fc",
   "metadata": {},
   "source": [
    "## 1d : Drawing a best fit line and finding path loss exponent"
   ]
  },
  {
   "cell_type": "code",
   "execution_count": 307,
   "id": "021fb502",
   "metadata": {},
   "outputs": [
    {
     "data": {
      "text/plain": [
       "[<matplotlib.lines.Line2D at 0x24417c887c0>]"
      ]
     },
     "execution_count": 307,
     "metadata": {},
     "output_type": "execute_result"
    },
    {
     "data": {
      "image/png": "[encoded data removed]",
      "text/plain": [
       "<Figure size 432x288 with 1 Axes>"
      ]
     },
     "metadata": {
      "needs_background": "light"
     },
     "output_type": "display_data"
    }
   ],
   "source": [
    "# We will use already existing function polyfit to get the best fit line\n",
    "# Polyfit function takes 3 arguements\n",
    "# One is the x values, second is the y values, and third is the dimension of the fitting polynomial which is 1 in our case\n",
    "\n",
    "slope, intercept = np.polyfit(distances, rssiVal, 1)\n",
    "\n",
    "#add points to plot\n",
    "plt.scatter(distances, rssiVal)\n",
    "\n",
    "#add line of best fit to plot\n",
    "# print(x)\n",
    "plt.plot(distances, slope*distances + intercept)\n"
   ]
  },
  {
   "cell_type": "code",
   "execution_count": 308,
   "id": "597a458c",
   "metadata": {},
   "outputs": [
    {
     "name": "stdout",
     "output_type": "stream",
     "text": [
      "1.9226060108168876\n"
     ]
    }
   ],
   "source": [
    "#path loss exponent\n",
    "pathLossExponent = -slope/ 10\n",
    "print(pathLossExponent)"
   ]
  },
  {
   "cell_type": "markdown",
   "id": "02295aa2",
   "metadata": {},
   "source": [
    "## 1e : Finding variance"
   ]
  },
  {
   "cell_type": "code",
   "execution_count": 309,
   "id": "cd323fd5",
   "metadata": {},
   "outputs": [
    {
     "name": "stdout",
     "output_type": "stream",
     "text": [
      "Variance :  0.7228378549981637\n"
     ]
    }
   ],
   "source": [
    "error = 0\n",
    "for i in range(n):\n",
    "    error += abs(rssiVal[i] - (slope*distances[i] + intercept))\n",
    "print('Variance : ', error/(n-1))"
   ]
  },
  {
   "cell_type": "markdown",
   "id": "b303c07b",
   "metadata": {},
   "source": [
    "## Ques - 2a : Distance computed from the following formula"
   ]
  },
  {
   "cell_type": "markdown",
   "id": "8e91a339",
   "metadata": {},
   "source": [
    "We know that P<sub>r</sub>(d) = P<sub>r</sub>(d<sub>0</sub>) - 10 * n * log<sub>10</sub>(d/d<sub>0</sub>)  <br>\n",
    "Here d<sub>0</sub> = 1 <br>\n",
    "P<sub>r</sub>(d<sub>0</sub>) = RSSI Value at distance 1 <br>\n",
    "P<sub>r</sub>(d) = RSSI Value at distance d <br>\n",
    "n = path loss exponent"
   ]
  },
  {
   "cell_type": "code",
   "execution_count": 310,
   "id": "d8b8774c",
   "metadata": {},
   "outputs": [
    {
     "name": "stdout",
     "output_type": "stream",
     "text": [
      "Actual distance :  1  <---> Computed distance :  0.89\n",
      "Actual distance :  2  <---> Computed distance :  1.43\n",
      "Actual distance :  3  <---> Computed distance :  2.05\n",
      "Actual distance :  4  <---> Computed distance :  2.61\n",
      "Actual distance :  5  <---> Computed distance :  3.31\n",
      "Actual distance :  6  <---> Computed distance :  4.21\n",
      "Actual distance :  7  <---> Computed distance :  4.74\n",
      "Actual distance :  10  <---> Computed distance :  7.66\n",
      "Actual distance :  18  <---> Computed distance :  13.94\n",
      "Actual distance :  41  <---> Computed distance :  32.24\n"
     ]
    }
   ],
   "source": [
    "rssiAt1 = -51\n",
    "computedDistance = np.array([])\n",
    "for i in range(n):\n",
    "    powerDiff = rssiAt1 - rssiVal[i]\n",
    "    exponentTerm = powerDiff / (10 * pathLossExponent)\n",
    "    d = math.pow(10, exponentTerm)\n",
    "    computedDistance = np.append(computedDistance, d)\n",
    "for i in range(n):\n",
    "    print('Actual distance : ', originalDistance[i], ' <---> Computed distance : ', round(computedDistance[i], 2))"
   ]
  },
  {
   "cell_type": "markdown",
   "id": "7cb2baa4",
   "metadata": {},
   "source": [
    "## Ques - 2b : Average errror in distance "
   ]
  },
  {
   "cell_type": "code",
   "execution_count": 311,
   "id": "a584873a",
   "metadata": {},
   "outputs": [
    {
     "name": "stdout",
     "output_type": "stream",
     "text": [
      "Total error :  23.91857220511565 metres\n",
      "Average error values :  2.3918572205115654 metres\n"
     ]
    }
   ],
   "source": [
    "#Finding error in distance\n",
    "error = 0\n",
    "for i in range(n):\n",
    "    error += (abs(computedDistance[i] - originalDistance[i]))\n",
    "print('Total error : ', error, 'metres')\n",
    "print('Average error values : ', error/n, 'metres')"
   ]
  }
 ],
 "metadata": {
  "kernelspec": {
   "display_name": "Python 3 (ipykernel)",
   "language": "python",
   "name": "python3"
  },
  "language_info": {
   "codemirror_mode": {
    "name": "ipython",
    "version": 3
   },
   "file_extension": ".py",
   "mimetype": "text/x-python",
   "name": "python",
   "nbconvert_exporter": "python",
   "pygments_lexer": "ipython3",
   "version": "3.10.5"
  }
 },
 "nbformat": 4,
 "nbformat_minor": 5
}
